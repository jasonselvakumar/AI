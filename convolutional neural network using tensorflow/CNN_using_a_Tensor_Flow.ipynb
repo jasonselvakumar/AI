{
  "nbformat": 4,
  "nbformat_minor": 0,
  "metadata": {
    "colab": {
      "provenance": []
    },
    "kernelspec": {
      "name": "python3",
      "display_name": "Python 3"
    },
    "language_info": {
      "name": "python"
    }
  },
  "cells": [
    {
      "cell_type": "code",
      "execution_count": 1,
      "metadata": {
        "id": "8dfW3rzx7C_C"
      },
      "outputs": [],
      "source": [
        "import tensorflow as tf\n",
        "from keras import layers,models\n",
        "from keras.datasets import fashion_mnist\n",
        "from keras.utils import to_categorical"
      ]
    },
    {
      "cell_type": "code",
      "source": [
        "(train_images, train_labels), (test_images, test_labels) = fashion_mnist.load_data()"
      ],
      "metadata": {
        "colab": {
          "base_uri": "https://localhost:8080/"
        },
        "id": "YlHNRPoP7xCM",
        "outputId": "1882f1c9-62f9-4b63-9be3-531c0790a2b4"
      },
      "execution_count": 2,
      "outputs": [
        {
          "output_type": "stream",
          "name": "stdout",
          "text": [
            "Downloading data from https://storage.googleapis.com/tensorflow/tf-keras-datasets/train-labels-idx1-ubyte.gz\n",
            "29515/29515 [==============================] - 0s 1us/step\n",
            "Downloading data from https://storage.googleapis.com/tensorflow/tf-keras-datasets/train-images-idx3-ubyte.gz\n",
            "26421880/26421880 [==============================] - 2s 0us/step\n",
            "Downloading data from https://storage.googleapis.com/tensorflow/tf-keras-datasets/t10k-labels-idx1-ubyte.gz\n",
            "5148/5148 [==============================] - 0s 0us/step\n",
            "Downloading data from https://storage.googleapis.com/tensorflow/tf-keras-datasets/t10k-images-idx3-ubyte.gz\n",
            "4422102/4422102 [==============================] - 1s 0us/step\n"
          ]
        }
      ]
    },
    {
      "cell_type": "code",
      "source": [
        "train_images,test_images = train_images / 255.0 ,test_images / 255.0"
      ],
      "metadata": {
        "id": "ayKZNVQP7uRR"
      },
      "execution_count": 4,
      "outputs": []
    },
    {
      "cell_type": "code",
      "source": [
        "train_images = train_images.reshape((60000, 28, 28, 1))\n",
        "test_images = test_images.reshape((10000, 28, 28, 1))"
      ],
      "metadata": {
        "id": "MYOp_jla7cpi"
      },
      "execution_count": 5,
      "outputs": []
    },
    {
      "cell_type": "code",
      "source": [
        "train_labels = to_categorical(train_labels)\n",
        "test_labels = to_categorical(test_labels)"
      ],
      "metadata": {
        "id": "bKtBSVh-9okZ"
      },
      "execution_count": 6,
      "outputs": []
    },
    {
      "cell_type": "code",
      "source": [
        "#Build a CNN model\n",
        "model = models.Sequential()\n",
        "model.add(layers.Conv2D(32, (3, 3), activation='relu', input_shape=(28, 28, 1)))\n",
        "model.add(layers.MaxPooling2D((2, 2)))\n",
        "model.add(layers.Conv2D(64, (3, 3), activation='relu'))\n",
        "model.add(layers.MaxPooling2D((2, 2)))\n",
        "model.add(layers.Conv2D(64, (3, 3), activation='relu'))"
      ],
      "metadata": {
        "id": "e9FKU8Ja9z2f"
      },
      "execution_count": 8,
      "outputs": []
    },
    {
      "cell_type": "code",
      "source": [
        "model.add(layers.Flatten())\n",
        "model.add(layers.Dense(64, activation='relu'))\n",
        "model.add(layers.Dense(10, activation='softmax'))\n"
      ],
      "metadata": {
        "id": "_4TgK11X-qMD"
      },
      "execution_count": 9,
      "outputs": []
    },
    {
      "cell_type": "code",
      "source": [
        "# Compile the model\n",
        "model.compile(optimizer='adam',loss='categorical_crossentropy',metrics=['accuracy'])"
      ],
      "metadata": {
        "id": "3vB1jgQk_b-V"
      },
      "execution_count": 10,
      "outputs": []
    },
    {
      "cell_type": "code",
      "source": [
        "model.fit(train_images, train_labels, epochs=10, batch_size=64, validation_split=0.2)"
      ],
      "metadata": {
        "colab": {
          "base_uri": "https://localhost:8080/"
        },
        "id": "bA440rY6_nrW",
        "outputId": "86fca81f-cd73-4a45-8119-3384abdb1cad"
      },
      "execution_count": 11,
      "outputs": [
        {
          "output_type": "stream",
          "name": "stdout",
          "text": [
            "Epoch 1/10\n",
            "750/750 [==============================] - 48s 62ms/step - loss: 1.1799 - accuracy: 0.5586 - val_loss: 0.7700 - val_accuracy: 0.7028\n",
            "Epoch 2/10\n",
            "750/750 [==============================] - 43s 57ms/step - loss: 0.7422 - accuracy: 0.7177 - val_loss: 0.6941 - val_accuracy: 0.7447\n",
            "Epoch 3/10\n",
            "750/750 [==============================] - 42s 56ms/step - loss: 0.6785 - accuracy: 0.7443 - val_loss: 0.6698 - val_accuracy: 0.7455\n",
            "Epoch 4/10\n",
            "750/750 [==============================] - 43s 58ms/step - loss: 0.6265 - accuracy: 0.7637 - val_loss: 0.5995 - val_accuracy: 0.7713\n",
            "Epoch 5/10\n",
            "750/750 [==============================] - 44s 58ms/step - loss: 0.5828 - accuracy: 0.7780 - val_loss: 0.5632 - val_accuracy: 0.7881\n",
            "Epoch 6/10\n",
            "750/750 [==============================] - 42s 56ms/step - loss: 0.5468 - accuracy: 0.7932 - val_loss: 0.5413 - val_accuracy: 0.7968\n",
            "Epoch 7/10\n",
            "750/750 [==============================] - 42s 56ms/step - loss: 0.5162 - accuracy: 0.8051 - val_loss: 0.5338 - val_accuracy: 0.8038\n",
            "Epoch 8/10\n",
            "750/750 [==============================] - 42s 56ms/step - loss: 0.4950 - accuracy: 0.8118 - val_loss: 0.5050 - val_accuracy: 0.8156\n",
            "Epoch 9/10\n",
            "750/750 [==============================] - 42s 56ms/step - loss: 0.4787 - accuracy: 0.8193 - val_loss: 0.4805 - val_accuracy: 0.8239\n",
            "Epoch 10/10\n",
            "750/750 [==============================] - 42s 56ms/step - loss: 0.4638 - accuracy: 0.8260 - val_loss: 0.4924 - val_accuracy: 0.8160\n"
          ]
        },
        {
          "output_type": "execute_result",
          "data": {
            "text/plain": [
              "<keras.src.callbacks.History at 0x7e199cc52080>"
            ]
          },
          "metadata": {},
          "execution_count": 11
        }
      ]
    },
    {
      "cell_type": "code",
      "source": [
        "test_loss, test_acc = model.evaluate(test_images, test_labels)\n",
        "print(f'Test accuracy: {test_acc}')"
      ],
      "metadata": {
        "colab": {
          "base_uri": "https://localhost:8080/"
        },
        "id": "1Sj-YiEfAda1",
        "outputId": "80121730-58b4-4e3e-a0a8-4ae0d3f3ef7a"
      },
      "execution_count": 13,
      "outputs": [
        {
          "output_type": "stream",
          "name": "stdout",
          "text": [
            "313/313 [==============================] - 3s 9ms/step - loss: 97.7137 - accuracy: 0.5377\n",
            "Test accuracy: 0.5376999974250793\n"
          ]
        }
      ]
    },
    {
      "cell_type": "code",
      "source": [],
      "metadata": {
        "id": "SZKlVUnBDx05"
      },
      "execution_count": null,
      "outputs": []
    }
  ]
}